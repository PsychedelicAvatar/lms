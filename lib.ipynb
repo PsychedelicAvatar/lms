{
 "cells": [
  {
   "cell_type": "markdown",
   "metadata": {},
   "source": []
  },
  {
   "cell_type": "code",
   "execution_count": 57,
   "metadata": {},
   "outputs": [
    {
     "data": {
      "text/html": [
       "<div>\n",
       "<style scoped>\n",
       "    .dataframe tbody tr th:only-of-type {\n",
       "        vertical-align: middle;\n",
       "    }\n",
       "\n",
       "    .dataframe tbody tr th {\n",
       "        vertical-align: top;\n",
       "    }\n",
       "\n",
       "    .dataframe thead th {\n",
       "        text-align: right;\n",
       "    }\n",
       "</style>\n",
       "<table border=\"1\" class=\"dataframe\">\n",
       "  <thead>\n",
       "    <tr style=\"text-align: right;\">\n",
       "      <th></th>\n",
       "      <th>id</th>\n",
       "      <th>user id</th>\n",
       "      <th>amount</th>\n",
       "      <th>type</th>\n",
       "      <th>transaction type</th>\n",
       "      <th>next payment due date</th>\n",
       "    </tr>\n",
       "  </thead>\n",
       "  <tbody>\n",
       "    <tr>\n",
       "      <th>0</th>\n",
       "      <td>1</td>\n",
       "      <td>2</td>\n",
       "      <td>500</td>\n",
       "      <td>cash</td>\n",
       "      <td>2022-06-24 00:40:48.282834</td>\n",
       "      <td>None</td>\n",
       "    </tr>\n",
       "    <tr>\n",
       "      <th>1</th>\n",
       "      <td>2</td>\n",
       "      <td>2</td>\n",
       "      <td>500.0</td>\n",
       "      <td>cash</td>\n",
       "      <td>2022-06-24 00:45:07.968061</td>\n",
       "      <td>None</td>\n",
       "    </tr>\n",
       "    <tr>\n",
       "      <th>2</th>\n",
       "      <td>3</td>\n",
       "      <td>2</td>\n",
       "      <td>500.0</td>\n",
       "      <td>cash</td>\n",
       "      <td>2022-06-24 00:55:01.422094</td>\n",
       "      <td>None</td>\n",
       "    </tr>\n",
       "  </tbody>\n",
       "</table>\n",
       "</div>"
      ],
      "text/plain": [
       "   id  user id amount  type           transaction type next payment due date\n",
       "0   1        2    500  cash 2022-06-24 00:40:48.282834                  None\n",
       "1   2        2  500.0  cash 2022-06-24 00:45:07.968061                  None\n",
       "2   3        2  500.0  cash 2022-06-24 00:55:01.422094                  None"
      ]
     },
     "metadata": {},
     "output_type": "display_data"
    },
    {
     "name": "stdout",
     "output_type": "stream",
     "text": [
      "Successfully Signed out\n",
      "Succesfully Exited\n"
     ]
    }
   ],
   "source": [
    "\n",
    "\n",
    "\n",
    "\n",
    "\n",
    "while True:\n",
    "    choice=int(input('0.exit \\n 1.signin  \\n 2. signup '))\n",
    "    if choice==0:\n",
    "\n",
    "        print('Succesfully Exited')\n",
    "\n",
    "        break\n",
    "    elif choice ==1:\n",
    "       signin()\n",
    "    elif choice ==2:\n",
    "       signup_member()\n",
    "       \n",
    "    else:\n",
    "        print('Wrong choice entered ! \\n Please try again')\n",
    "\n",
    "    \n"
   ]
  },
  {
   "cell_type": "code",
   "execution_count": 26,
   "metadata": {},
   "outputs": [],
   "source": [
    "def signin_librarian():\n",
    "    while True:\n",
    "        choice=int(input(\"1. edit profile \\n2. change password \\n3. find book by name \\n4. check book availability \\n5. add new book \\n6. add new copy \\n7. take payment and issue book copy  \\n8. return book copy \\n9. list issued books \\n10. add member \\n11. payment history \\n12. list all users\\n0. exit\\n\"))\n",
    "        if choice==1:\n",
    "            edit_profile()\n",
    "            \n",
    "        elif choice==2:\n",
    "            change_password()\n",
    "        elif choice==3:\n",
    "            find_book()\n",
    "        elif choice==4:\n",
    "            check_book_availability()\n",
    "        elif choice==5:\n",
    "            add_new_book()\n",
    "        elif choice==6:\n",
    "            add_new_copy()\n",
    "           \n",
    "        \n",
    "        elif choice==7:\n",
    "            take_payment()\n",
    "            issue_book_copy()\n",
    "        elif choice==8:\n",
    "            return_book_copy()\n",
    "        elif choice==9:\n",
    "            list_issued_books()\n",
    "       \n",
    "        \n",
    "        elif choice==10:\n",
    "            signup_member()\n",
    "        \n",
    "        \n",
    "        elif choice==11:\n",
    "            payment_history()\n",
    "        elif choice==12:\n",
    "            list_users()\n",
    "        elif choice==0:\n",
    "            print(\"Successfully exited !\")\n",
    "            break\n",
    "        else:\n",
    "            print('Wrong choice entered !!, Please try again')\n",
    "\n",
    "            \n",
    "\n",
    "\n",
    "    \n",
    "    "
   ]
  },
  {
   "cell_type": "code",
   "execution_count": 28,
   "metadata": {},
   "outputs": [],
   "source": [
    "def take_payment():\n",
    "    global uid\n",
    "    global e\n",
    "    uid=int(input(\"Enter user id : \"))\n",
    "    e=int(input('Enter book_id : '))\n",
    "    amt=float(input(\"Enter amount in Rupees:\"))\n",
    "    tp=input(\"Enter mode of transaction : \")\n",
    "    import psycopg2\n",
    "    conn=psycopg2.connect(database='library',user='postgres',password='pgdbda',host='127.0.0.1',port='5432')\n",
    "    cur=conn.cursor()\n",
    "    cur.execute(''' select count(book_id) from copies where book_id=%s and status= 'available' ''',(e,) )\n",
    "    r=cur.fetchall()\n",
    "    if r[0][0]>0: \n",
    "        cur.execute('''insert into payments (user_id,amount,type)  values(%s,%s,%s)''',(uid,amt,tp))\n",
    "    else: \n",
    "        print(\"Entered book id is unavailable\")\n",
    "    conn.commit()\n",
    "    conn.close()"
   ]
  },
  {
   "cell_type": "code",
   "execution_count": 9,
   "metadata": {},
   "outputs": [],
   "source": [
    "def list_users():\n",
    "    import psycopg2\n",
    "    conn=psycopg2.connect(database='library',user='postgres',password='pgdbda',host='127.0.0.1',port='5432')\n",
    "    cur=conn.cursor()\n",
    "    cur.execute('''select name from user1''')\n",
    "    print('Name of Users :')\n",
    "    r=cur.fetchall()\n",
    "    for i in r:\n",
    "       print(i[0])\n",
    "    conn.commit()\n",
    "    conn.close()"
   ]
  },
  {
   "cell_type": "code",
   "execution_count": 10,
   "metadata": {},
   "outputs": [
    {
     "name": "stdout",
     "output_type": "stream",
     "text": [
      "Name of Users :\n",
      "amit\n",
      "abu\n"
     ]
    }
   ],
   "source": [
    "list_users()"
   ]
  },
  {
   "cell_type": "code",
   "execution_count": 29,
   "metadata": {},
   "outputs": [
    {
     "name": "stdout",
     "output_type": "stream",
     "text": [
      "Entered book id is unavailable\n",
      "Successfully exited !\n"
     ]
    }
   ],
   "source": [
    "signin_librarian()"
   ]
  },
  {
   "cell_type": "code",
   "execution_count": 10,
   "metadata": {},
   "outputs": [
    {
     "name": "stdout",
     "output_type": "stream",
     "text": [
      "2\n",
      "10\n"
     ]
    }
   ],
   "source": [
    "print(uid)\n",
    "print(e)"
   ]
  },
  {
   "cell_type": "code",
   "execution_count": 102,
   "metadata": {},
   "outputs": [],
   "source": [
    "def check_book_availability():\n",
    "  name=input(\"Enter Book name : \")+'%'\n",
    "\n",
    "  import psycopg2\n",
    "  from psycopg2.extensions import AsIs\n",
    "  conn=psycopg2.connect(database='library',user='postgres',password='pgdbda',host='127.0.0.1',port='5432')\n",
    "  cur=conn.cursor()\n",
    "  cur.execute(''' select name,status from copies join books b on b.id=book_id where status='available' and book_id in (select id from books where name ilike '%s')''',(AsIs(name),))\n",
    "  r=cur.fetchall()\n",
    "  for i in range(len(r)):\n",
    "    \n",
    "    if r[i][1]=='available':\n",
    "      print(r[i][0], '-->  available')\n",
    "\n",
    "  if r==[]:\n",
    "    print('not available')\n",
    "    \n",
    "  \n",
    "  \n",
    "  conn.commit()\n",
    "  conn.close()"
   ]
  },
  {
   "cell_type": "code",
   "execution_count": 101,
   "metadata": {},
   "outputs": [
    {
     "name": "stdout",
     "output_type": "stream",
     "text": [
      "not available\n"
     ]
    }
   ],
   "source": [
    "check_book_availability()"
   ]
  },
  {
   "cell_type": "code",
   "execution_count": 5,
   "metadata": {},
   "outputs": [],
   "source": [
    "def return_book_copy():\n",
    "    re=input(\"Enter return date (in yyyy-mm-dd format) : \")\n",
    "    mid=input(\"Enter member id : \")\n",
    "    import psycopg2\n",
    "    conn=psycopg2.connect(database='library',user='postgres',password='pgdbda',host='127.0.0.1',port='5432')\n",
    "    cur=conn.cursor()\n",
    "    cur.execute('''update issuecard set return_date=%s where memberid=%s''', (re,mid))\n",
    "    conn.commit()\n",
    "    conn.close()"
   ]
  },
  {
   "cell_type": "code",
   "execution_count": 4,
   "metadata": {},
   "outputs": [],
   "source": [
    "def list_issued_books():\n",
    "    print('id | book_id | copyid |         name          | memberid | issuedate  | return_due_date | fine_amount')\n",
    "    import psycopg2\n",
    "    import datetime\n",
    "    conn=psycopg2.connect(database='library',user='postgres',password='pgdbda',host='127.0.0.1',port='5432')\n",
    "    cur=conn.cursor()\n",
    "    cur.execute('''select i.id,c.book_id,copyid,b.name,memberid,issuedate,return_due_date, ((return_date-return_due_date)/7)*50 as fine_amount from issuecard i join copies c on copyid=c.id join books b on book_id=b.id''')\n",
    "    r=cur.fetchall()\n",
    "    for i in r:\n",
    "       print(i)\n",
    "    conn.commit()\n",
    "    conn.close()"
   ]
  },
  {
   "cell_type": "code",
   "execution_count": 5,
   "metadata": {},
   "outputs": [
    {
     "name": "stdout",
     "output_type": "stream",
     "text": [
      "id | book_id | copyid |         name          | memberid | issuedate  | return_due_date | fine_amount\n",
      "(1, 7, 1, 'ms dhoni untold story', 2, datetime.date(2022, 6, 12), datetime.date(2022, 6, 19), None)\n",
      "(3, 8, 4, 'harry potter', 1, datetime.date(2022, 6, 12), datetime.date(2022, 6, 19), 50)\n"
     ]
    }
   ],
   "source": [
    "list_issued_books()"
   ]
  },
  {
   "cell_type": "code",
   "execution_count": 17,
   "metadata": {},
   "outputs": [],
   "source": [
    "\n",
    "def add_new_book():\n",
    "    import psycopg2\n",
    "    conn=psycopg2.connect(database='library',user='postgres',password='pgdbda',host='127.0.0.1',port='5432')\n",
    "    cur=conn.cursor()\n",
    "    print('Enter book information')\n",
    "    a=input('Book name : ')\n",
    "    b=input('Author name : ')\n",
    "    c=input('Subject name : ')\n",
    "    d=float(input('Price : '))\n",
    "    e=int(input('ISBN : '))\n",
    "\t \n",
    "   \n",
    "    cur.execute('''insert into books (name,author,subject,price,isbn) values(%s,%s,%s,%s,%s)''', (a,b,c,d,e))\n",
    "    cur.execute('''insert into copies (book_id, rack) values((select * from currval('incc')), 1 )''')\n",
    "    \n",
    "    conn.commit()\n",
    "    conn.close()\n",
    "    print('Book added successfully')"
   ]
  },
  {
   "cell_type": "code",
   "execution_count": 2,
   "metadata": {},
   "outputs": [
    {
     "name": "stdout",
     "output_type": "stream",
     "text": [
      "Enter book information\n",
      "Book added successfully\n"
     ]
    }
   ],
   "source": [
    "add_new_copy()"
   ]
  },
  {
   "cell_type": "code",
   "execution_count": 16,
   "metadata": {},
   "outputs": [],
   "source": [
    "def add_new_copy():\n",
    "    import psycopg2\n",
    "    conn=psycopg2.connect(database='library',user='postgres',password='pgdbda',host='127.0.0.1',port='5432')\n",
    "    cur=conn.cursor()\n",
    "    x=int(input('Enter Book Id'))\n",
    "    cur.execute('''insert into copies (book_id,rack) values(%s,1)''',x)\n",
    "    conn.commit()\n",
    "    conn.close()\n",
    "    print('Copy added successfully')"
   ]
  },
  {
   "cell_type": "code",
   "execution_count": null,
   "metadata": {},
   "outputs": [],
   "source": []
  },
  {
   "cell_type": "code",
   "execution_count": 15,
   "metadata": {},
   "outputs": [],
   "source": [
    "def signup_member():\n",
    "    import psycopg2\n",
    "    from psycopg2.extensions import AsIs\n",
    "    conn=psycopg2.connect(database='library',user='postgres',password='pgdbda',host='127.0.0.1',port='5432')\n",
    "    cur=conn.cursor()\n",
    "    name=(input('Enter name : '))\n",
    "    email=(input('Enter email : '))\n",
    "    phone=(input('Enter phone no. : '))\n",
    "    pwd=(input('Enter password : '))\n",
    "    cur.execute(\"\"\"create user %s with password %s\"\"\", (AsIs(name),pwd,))\n",
    "    cur.execute(''' grant select on books to %s ''', (AsIs(name),))\n",
    "    cur.execute(''' grant all on user1 to %s ''', (AsIs(name),))\n",
    "    cur.execute(''' insert into user1 (id,name,email,phone_no, password, role) values (nextval('user1_seq'),%s,%s,%s,%s,'member')''',(name,email,phone,pwd,) )\n",
    "\n",
    "    conn.commit()\n",
    "    conn.close()"
   ]
  },
  {
   "cell_type": "code",
   "execution_count": 21,
   "metadata": {},
   "outputs": [],
   "source": [
    "signup_member()\n"
   ]
  },
  {
   "cell_type": "code",
   "execution_count": 50,
   "metadata": {},
   "outputs": [],
   "source": [
    "def signin():\n",
    "    global usr\n",
    "    global pas\n",
    "    usr=input('Enter name : ')\n",
    "    pas=input('Enter password : ')\n",
    "    \n",
    "    import psycopg2\n",
    "    conn=psycopg2.connect(database='library', user=usr, password=pas,host='127.0.0.1',port='5432')\n",
    "    cur=conn.cursor()\n",
    "    cur.execute(''' select role from user1 where name=%s and password=%s''',(usr,pas))\n",
    "    x=cur.fetchall()\n",
    "    if x[0][0]=='member':\n",
    "      signin_member()\n",
    "        \n",
    "        \n",
    "    elif x[0][0]== 'librarian':\n",
    "      signin_librarian()\n",
    "    elif x[0][0]=='owner':\n",
    "      signin_owner()\n",
    "    conn.commit()\n",
    "    "
   ]
  },
  {
   "cell_type": "code",
   "execution_count": 51,
   "metadata": {},
   "outputs": [
    {
     "ename": "OperationalError",
     "evalue": "connection to server at \"127.0.0.1\", port 5432 failed: FATAL:  password authentication failed for user \"amit\"\n",
     "output_type": "error",
     "traceback": [
      "\u001b[1;31m---------------------------------------------------------------------------\u001b[0m",
      "\u001b[1;31mOperationalError\u001b[0m                          Traceback (most recent call last)",
      "\u001b[1;32mc:\\Users\\amitv\\OneDrive\\Desktop\\mini project\\lib.ipynb Cell 21'\u001b[0m in \u001b[0;36m<cell line: 1>\u001b[1;34m()\u001b[0m\n\u001b[1;32m----> <a href='vscode-notebook-cell:/c%3A/Users/amitv/OneDrive/Desktop/mini%20project/lib.ipynb#ch0000017?line=0'>1</a>\u001b[0m signin()\n\u001b[0;32m      <a href='vscode-notebook-cell:/c%3A/Users/amitv/OneDrive/Desktop/mini%20project/lib.ipynb#ch0000017?line=1'>2</a>\u001b[0m \u001b[39mprint\u001b[39m(usr)\n",
      "\u001b[1;32mc:\\Users\\amitv\\OneDrive\\Desktop\\mini project\\lib.ipynb Cell 20'\u001b[0m in \u001b[0;36msignin\u001b[1;34m()\u001b[0m\n\u001b[0;32m      <a href='vscode-notebook-cell:/c%3A/Users/amitv/OneDrive/Desktop/mini%20project/lib.ipynb#ch0000016?line=4'>5</a>\u001b[0m pas\u001b[39m=\u001b[39m\u001b[39minput\u001b[39m(\u001b[39m'\u001b[39m\u001b[39mEnter password : \u001b[39m\u001b[39m'\u001b[39m)\n\u001b[0;32m      <a href='vscode-notebook-cell:/c%3A/Users/amitv/OneDrive/Desktop/mini%20project/lib.ipynb#ch0000016?line=6'>7</a>\u001b[0m \u001b[39mimport\u001b[39;00m \u001b[39mpsycopg2\u001b[39;00m\n\u001b[1;32m----> <a href='vscode-notebook-cell:/c%3A/Users/amitv/OneDrive/Desktop/mini%20project/lib.ipynb#ch0000016?line=7'>8</a>\u001b[0m conn\u001b[39m=\u001b[39mpsycopg2\u001b[39m.\u001b[39;49mconnect(database\u001b[39m=\u001b[39;49m\u001b[39m'\u001b[39;49m\u001b[39mlibrary\u001b[39;49m\u001b[39m'\u001b[39;49m, user\u001b[39m=\u001b[39;49musr, password\u001b[39m=\u001b[39;49mpas,host\u001b[39m=\u001b[39;49m\u001b[39m'\u001b[39;49m\u001b[39m127.0.0.1\u001b[39;49m\u001b[39m'\u001b[39;49m,port\u001b[39m=\u001b[39;49m\u001b[39m'\u001b[39;49m\u001b[39m5432\u001b[39;49m\u001b[39m'\u001b[39;49m)\n\u001b[0;32m      <a href='vscode-notebook-cell:/c%3A/Users/amitv/OneDrive/Desktop/mini%20project/lib.ipynb#ch0000016?line=8'>9</a>\u001b[0m cur\u001b[39m=\u001b[39mconn\u001b[39m.\u001b[39mcursor()\n\u001b[0;32m     <a href='vscode-notebook-cell:/c%3A/Users/amitv/OneDrive/Desktop/mini%20project/lib.ipynb#ch0000016?line=9'>10</a>\u001b[0m cur\u001b[39m.\u001b[39mexecute(\u001b[39m'''\u001b[39m\u001b[39m select role from user1 where name=\u001b[39m\u001b[39m%s\u001b[39;00m\u001b[39m and password=\u001b[39m\u001b[39m%s\u001b[39;00m\u001b[39m'''\u001b[39m,(usr,pas))\n",
      "File \u001b[1;32mc:\\Users\\amitv\\AppData\\Local\\Programs\\Python\\Python310\\lib\\site-packages\\psycopg2\\__init__.py:122\u001b[0m, in \u001b[0;36mconnect\u001b[1;34m(dsn, connection_factory, cursor_factory, **kwargs)\u001b[0m\n\u001b[0;32m    119\u001b[0m     kwasync[\u001b[39m'\u001b[39m\u001b[39masync_\u001b[39m\u001b[39m'\u001b[39m] \u001b[39m=\u001b[39m kwargs\u001b[39m.\u001b[39mpop(\u001b[39m'\u001b[39m\u001b[39masync_\u001b[39m\u001b[39m'\u001b[39m)\n\u001b[0;32m    121\u001b[0m dsn \u001b[39m=\u001b[39m _ext\u001b[39m.\u001b[39mmake_dsn(dsn, \u001b[39m*\u001b[39m\u001b[39m*\u001b[39mkwargs)\n\u001b[1;32m--> 122\u001b[0m conn \u001b[39m=\u001b[39m _connect(dsn, connection_factory\u001b[39m=\u001b[39mconnection_factory, \u001b[39m*\u001b[39m\u001b[39m*\u001b[39mkwasync)\n\u001b[0;32m    123\u001b[0m \u001b[39mif\u001b[39;00m cursor_factory \u001b[39mis\u001b[39;00m \u001b[39mnot\u001b[39;00m \u001b[39mNone\u001b[39;00m:\n\u001b[0;32m    124\u001b[0m     conn\u001b[39m.\u001b[39mcursor_factory \u001b[39m=\u001b[39m cursor_factory\n",
      "\u001b[1;31mOperationalError\u001b[0m: connection to server at \"127.0.0.1\", port 5432 failed: FATAL:  password authentication failed for user \"amit\"\n"
     ]
    }
   ],
   "source": [
    "\n",
    "signin()\n",
    "print(usr)"
   ]
  },
  {
   "cell_type": "code",
   "execution_count": 7,
   "metadata": {},
   "outputs": [],
   "source": [
    "def edit_profile():\n",
    "    u=input('Enter new email : ')\n",
    "    p=input('Enter new mobile_no. : ')\n",
    "\n",
    "    import psycopg2\n",
    "    \n",
    "    conn=psycopg2.connect(database='library', user=usr, password=pas,host='127.0.0.1',port='5432')\n",
    "    cur=conn.cursor()\n",
    "    cur.execute('''update user1 set email=%s , phone_no=%s where name=%s ''',(u,p,usr))\n",
    "    conn.commit()\n",
    "    conn.close()"
   ]
  },
  {
   "cell_type": "code",
   "execution_count": 8,
   "metadata": {},
   "outputs": [],
   "source": [
    "def signin_owner():\n",
    "\n",
    "   while True:\n",
    "      choice=int(input('0. Signout \\n 1. Edit profile  \\n 2. Change password \\n 3. Bookwise copies report \\n 4. Fees/ Fine report '))\n",
    "      if choice==0:  \n",
    "          print('Successfully Signed out')   \n",
    "          break\n",
    "      elif choice ==1:\n",
    "         edit_profile() \n",
    "      elif choice ==2:\n",
    "         change_password() \n",
    "      \n",
    "         \n",
    "      elif choice ==3:\n",
    "         bookwise_copies_report()\n",
    "      elif choice ==4:\n",
    "         payment_history() # ye bhi\n",
    "      \n",
    "         \n",
    "      else:\n",
    "          print('Wrong choice entered ! \\n Please try again')"
   ]
  },
  {
   "cell_type": "code",
   "execution_count": 4,
   "metadata": {},
   "outputs": [
    {
     "name": "stdout",
     "output_type": "stream",
     "text": [
      "BOOK ID  |  BOOK NAME  |  AVAILABLE  |  ISSUED  |  COUNT\n",
      "(7, 'ms dhoni untold story', 2, 1, 3)\n",
      "(8, 'harry potter', 2, 1, 3)\n",
      "(9, 'avatar', 1, 2, 3)\n",
      "(10, 'dunes', 1, 2, 3)\n",
      "Successfully Signed out\n"
     ]
    }
   ],
   "source": [
    "signin_owner()"
   ]
  },
  {
   "cell_type": "code",
   "execution_count": 47,
   "metadata": {},
   "outputs": [],
   "source": [
    "def signin_member():\n",
    "   while True:\n",
    "      choice=int(input('0. Signout \\n 1. Edit profile  \\n 2. Change password \\n 3. Find book by name \\n 4. Check book availability \\n 5. List issued books \\n 6. Payment history '))\n",
    "      if choice==0:\n",
    "         print('Successfully Signed out')\n",
    "         break\n",
    "      elif choice ==1:\n",
    "         edit_profile() \n",
    "         \n",
    "      elif choice ==2:\n",
    "         change_password()\n",
    "      elif choice ==3:\n",
    "         find_book()  \n",
    "      elif choice ==4:\n",
    "         check_book_avail() \n",
    "      elif choice ==5:\n",
    "         list_issued_books() \n",
    "      elif choice ==6:\n",
    "         payment_history_mem()\n",
    "         \n",
    "      else:\n",
    "         print('Wrong choice entered ! \\n Please try again')"
   ]
  },
  {
   "cell_type": "code",
   "execution_count": 49,
   "metadata": {},
   "outputs": [
    {
     "ename": "NameError",
     "evalue": "name 'usr' is not defined",
     "output_type": "error",
     "traceback": [
      "\u001b[1;31m---------------------------------------------------------------------------\u001b[0m",
      "\u001b[1;31mNameError\u001b[0m                                 Traceback (most recent call last)",
      "\u001b[1;32mc:\\Users\\amitv\\OneDrive\\Desktop\\mini project\\lib.ipynb Cell 26'\u001b[0m in \u001b[0;36m<cell line: 1>\u001b[1;34m()\u001b[0m\n\u001b[1;32m----> <a href='vscode-notebook-cell:/c%3A/Users/amitv/OneDrive/Desktop/mini%20project/lib.ipynb#ch0000039?line=0'>1</a>\u001b[0m usr\n",
      "\u001b[1;31mNameError\u001b[0m: name 'usr' is not defined"
     ]
    }
   ],
   "source": [
    "usr"
   ]
  },
  {
   "cell_type": "code",
   "execution_count": 10,
   "metadata": {},
   "outputs": [],
   "source": [
    "def bookwise_copies_report():\n",
    "    import psycopg2\n",
    "    from psycopg2.extensions import AsIs\n",
    "    conn=psycopg2.connect(database='library',user='postgres',password='pgdbda',host='127.0.0.1',port='5432')\n",
    "    cur=conn.cursor()\n",
    "    print(\"BOOK ID  |  BOOK NAME  |  AVAILABLE  |  ISSUED  |  COUNT\")\n",
    "    cur.execute('''  with two as (with one as (select b.id,name,count(c.status) as available from books b left join copies c on book_id=b.id where status='available'group by b.id) select o.id,name,available, count(status)-available as issued, count(status) count from copies,one o group by o.id,name,available,book_id ) select * from two group by id,name,available,issued,count order by id ''')\n",
    "    r=cur.fetchall()\n",
    "    for i in r:\n",
    "\n",
    "        print(i)\n",
    "    conn.close()"
   ]
  },
  {
   "cell_type": "code",
   "execution_count": 11,
   "metadata": {},
   "outputs": [],
   "source": [
    "def change_password():\n",
    "     pd=input('Enter new password : ')\n",
    "    \n",
    "     import psycopg2\n",
    "     from psycopg2.extensions import AsIs\n",
    "     conn=psycopg2.connect(database='library', user=usr, password=pas,host='127.0.0.1',port='5432')\n",
    "     cur=conn.cursor()\n",
    "     cur.execute('''alter role %s with password %s  ''',(AsIs(usr),pd))\n",
    "     cur.execute('''update user1 set password =%s where name = %s ''',(pd,usr))\n",
    "     conn.commit()\n",
    "     conn.close()"
   ]
  },
  {
   "cell_type": "code",
   "execution_count": 12,
   "metadata": {},
   "outputs": [],
   "source": [
    "def find_book():\n",
    "    bk=input('Enter book name: ')+'%'\n",
    "\n",
    "    import psycopg2\n",
    "    from psycopg2.extensions import AsIs\n",
    "    conn=psycopg2.connect(database='library', user='postgres', password='pgdbda',host='127.0.0.1',port='5432')\n",
    "    cur=conn.cursor()\n",
    "    cur.execute('''select name,author,subject,price,isbn from books where name ilike '%s' ''',(AsIs(bk),))\n",
    "    b=cur.fetchall()\n",
    "    for i in b:\n",
    "\n",
    "        print(i)\n",
    "    \n",
    "    conn.commit()\n",
    "    conn.close()\n"
   ]
  },
  {
   "cell_type": "code",
   "execution_count": 16,
   "metadata": {},
   "outputs": [
    {
     "data": {
      "text/plain": [
       "'ms%'"
      ]
     },
     "execution_count": 16,
     "metadata": {},
     "output_type": "execute_result"
    }
   ],
   "source": [
    "bk=input('Enter book name: ')+'%'\n",
    "bk"
   ]
  },
  {
   "cell_type": "code",
   "execution_count": 16,
   "metadata": {},
   "outputs": [
    {
     "name": "stdout",
     "output_type": "stream",
     "text": [
      "(7, 'ms dhoni untold story', 2, 1, 3)\n",
      "(8, 'harry potter', 2, 1, 3)\n",
      "(9, 'avatar', 1, 2, 3)\n",
      "(10, 'dunes', 1, 2, 3)\n"
     ]
    }
   ],
   "source": [
    "bookwise_copies_report()"
   ]
  },
  {
   "cell_type": "code",
   "execution_count": 13,
   "metadata": {},
   "outputs": [],
   "source": [
    "def check_book_avail():\n",
    "    \n",
    "    import psycopg2\n",
    "    conn=psycopg2.connect(database='library', user='postgres', password='pgdbda',host='127.0.0.1',port='5432')\n",
    "    cur=conn.cursor()\n",
    "    \n",
    "    print(\"BOOK ID  |  BOOK NAME  |  RACK  |  STATUS\")\n",
    "    cur.execute('''select c.id,name,rack, status from copies c left join books b on b.id=book_id;''')\n",
    "    b=cur.fetchall()\n",
    "    for i in b:\n",
    "\n",
    "        print(i)\n",
    "    \n",
    "    conn.commit()\n",
    "    conn.close()\n"
   ]
  },
  {
   "cell_type": "code",
   "execution_count": 40,
   "metadata": {},
   "outputs": [
    {
     "name": "stdout",
     "output_type": "stream",
     "text": [
      "['id', 'book_id', 'rack', 'status']\n"
     ]
    }
   ],
   "source": [
    "import psycopg2\n",
    "conn=psycopg2.connect(database='library', user='postgres', password='pgdbda',host='127.0.0.1',port='5432')\n",
    "cur=conn.cursor()\n",
    "cur.execute('''SELECT column_name FROM INFORMATION_SCHEMA.COLUMNS WHERE table_name = 'copies' ''')\n",
    "b=cur.fetchall()\n",
    "df = pd.DataFrame(tupples, columns=column_names)\n",
    "c=[]\n",
    "for i in b:\n",
    "    c.extend(i)\n",
    "print(c)\n",
    "conn.commit()\n",
    "conn.close()"
   ]
  },
  {
   "cell_type": "code",
   "execution_count": 21,
   "metadata": {},
   "outputs": [],
   "source": [
    "def issue_book_copy():\n",
    "   \n",
    "    import psycopg2\n",
    "    \n",
    "    conn=psycopg2.connect(database='library', user='postgres', password='pgdbda',host='127.0.0.1',port='5432')\n",
    "    cur=conn.cursor()\n",
    "    cur.execute('''insert into issuecard (copyid,memberid) values ((select id from copies where book_id=%s and status='available' order by id limit 1),%s)''',(e,uid))\n",
    "    cur.execute('''with one as (select id from copies where book_id=%s and status='available' order by id limit 1) update copies set status='not available' where id=(select id from one)''',(e,))\n",
    "    conn.commit()\n",
    "    conn.close()"
   ]
  },
  {
   "cell_type": "code",
   "execution_count": 20,
   "metadata": {},
   "outputs": [],
   "source": [
    "issue_book_copy()"
   ]
  },
  {
   "cell_type": "code",
   "execution_count": 21,
   "metadata": {},
   "outputs": [
    {
     "name": "stdout",
     "output_type": "stream",
     "text": [
      "   id  name          email   phone_no password    role\n",
      "0   1  amit       amit.com    6546532     sing  member\n",
      "1   2   abu  abu@gmail.com  981495654   shaikh  member\n"
     ]
    }
   ],
   "source": [
    "\n",
    "    import psycopg2\n",
    "    import pandas as pd\n",
    "    \n",
    "    column_names = [\"id\", \"name\", \"email\", \"phone_no\", \"password\" ,\"role\"]\n",
    "    conn=psycopg2.connect(database='library', user='postgres', password='pgdbda',host='127.0.0.1',port='5432')\n",
    "    cur=conn.cursor()\n",
    "    \n",
    "    cur.execute('''select*from user1''')\n",
    "    tupples=cur.fetchall()\n",
    "    df = pd.DataFrame(tupples, columns=column_names)\n",
    "    \n",
    "    \n",
    "    print(df)\n",
    "    conn.commit()\n",
    "    conn.close()\n",
    "   "
   ]
  },
  {
   "cell_type": "code",
   "execution_count": 41,
   "metadata": {},
   "outputs": [],
   "source": [
    "def payment_history():\n",
    "\n",
    "    import psycopg2\n",
    "    import pandas as pd\n",
    "    \n",
    "    column_names = [\"id\", \"user id\", \"amount\", \"type\", \"transaction type\" ,\"next payment due date\"]\n",
    "    conn=psycopg2.connect(database='library', user='postgres', password='pgdbda',host='127.0.0.1',port='5432')\n",
    "    cur=conn.cursor()\n",
    "    \n",
    "    cur.execute('''select*from payments''')\n",
    "    tupples=cur.fetchall()\n",
    "    df = pd.DataFrame(tupples, columns=column_names)\n",
    "    \n",
    "\n",
    "    \n",
    "    display(df)"
   ]
  },
  {
   "cell_type": "code",
   "execution_count": 42,
   "metadata": {},
   "outputs": [
    {
     "data": {
      "text/html": [
       "<div>\n",
       "<style scoped>\n",
       "    .dataframe tbody tr th:only-of-type {\n",
       "        vertical-align: middle;\n",
       "    }\n",
       "\n",
       "    .dataframe tbody tr th {\n",
       "        vertical-align: top;\n",
       "    }\n",
       "\n",
       "    .dataframe thead th {\n",
       "        text-align: right;\n",
       "    }\n",
       "</style>\n",
       "<table border=\"1\" class=\"dataframe\">\n",
       "  <thead>\n",
       "    <tr style=\"text-align: right;\">\n",
       "      <th></th>\n",
       "      <th>id</th>\n",
       "      <th>user id</th>\n",
       "      <th>amount</th>\n",
       "      <th>type</th>\n",
       "      <th>transaction type</th>\n",
       "      <th>next payment due date</th>\n",
       "    </tr>\n",
       "  </thead>\n",
       "  <tbody>\n",
       "    <tr>\n",
       "      <th>0</th>\n",
       "      <td>1</td>\n",
       "      <td>2</td>\n",
       "      <td>500</td>\n",
       "      <td>cash</td>\n",
       "      <td>2022-06-24 00:40:48.282834</td>\n",
       "      <td>None</td>\n",
       "    </tr>\n",
       "    <tr>\n",
       "      <th>1</th>\n",
       "      <td>2</td>\n",
       "      <td>2</td>\n",
       "      <td>500.0</td>\n",
       "      <td>cash</td>\n",
       "      <td>2022-06-24 00:45:07.968061</td>\n",
       "      <td>None</td>\n",
       "    </tr>\n",
       "    <tr>\n",
       "      <th>2</th>\n",
       "      <td>3</td>\n",
       "      <td>2</td>\n",
       "      <td>500.0</td>\n",
       "      <td>cash</td>\n",
       "      <td>2022-06-24 00:55:01.422094</td>\n",
       "      <td>None</td>\n",
       "    </tr>\n",
       "  </tbody>\n",
       "</table>\n",
       "</div>"
      ],
      "text/plain": [
       "   id  user id amount  type           transaction type next payment due date\n",
       "0   1        2    500  cash 2022-06-24 00:40:48.282834                  None\n",
       "1   2        2  500.0  cash 2022-06-24 00:45:07.968061                  None\n",
       "2   3        2  500.0  cash 2022-06-24 00:55:01.422094                  None"
      ]
     },
     "metadata": {},
     "output_type": "display_data"
    }
   ],
   "source": [
    "payment_history()"
   ]
  },
  {
   "cell_type": "code",
   "execution_count": 56,
   "metadata": {},
   "outputs": [],
   "source": [
    "def payment_history_mem():\n",
    "    import psycopg2\n",
    "    import pandas as pd\n",
    "    \n",
    "    column_names = [\"id\", \"user id\", \"amount\", \"type\", \"transaction type\" ,\"next payment due date\"]\n",
    "    conn=psycopg2.connect(database='library', user='postgres', password='pgdbda',host='127.0.0.1',port='5432')\n",
    "    cur=conn.cursor()\n",
    "    \n",
    "    cur.execute('''select*from payments where user_id=(select id from user1 where name=%s and password=%s)''',(usr,pas))\n",
    "    tupples=cur.fetchall()\n",
    "    df = pd.DataFrame(tupples, columns=column_names)\n",
    "    \n",
    "\n",
    "    \n",
    "    display(df)\n",
    "    conn.commit()\n",
    "    conn.close()"
   ]
  },
  {
   "cell_type": "code",
   "execution_count": 48,
   "metadata": {},
   "outputs": [
    {
     "ename": "NameError",
     "evalue": "name 'usr' is not defined",
     "output_type": "error",
     "traceback": [
      "\u001b[1;31m---------------------------------------------------------------------------\u001b[0m",
      "\u001b[1;31mNameError\u001b[0m                                 Traceback (most recent call last)",
      "\u001b[1;32mc:\\Users\\amitv\\OneDrive\\Desktop\\mini project\\lib.ipynb Cell 39'\u001b[0m in \u001b[0;36m<cell line: 1>\u001b[1;34m()\u001b[0m\n\u001b[1;32m----> <a href='vscode-notebook-cell:/c%3A/Users/amitv/OneDrive/Desktop/mini%20project/lib.ipynb#ch0000038?line=0'>1</a>\u001b[0m payment_history_mem()\n",
      "\u001b[1;32mc:\\Users\\amitv\\OneDrive\\Desktop\\mini project\\lib.ipynb Cell 38'\u001b[0m in \u001b[0;36mpayment_history_mem\u001b[1;34m()\u001b[0m\n\u001b[0;32m      <a href='vscode-notebook-cell:/c%3A/Users/amitv/OneDrive/Desktop/mini%20project/lib.ipynb#ch0000037?line=5'>6</a>\u001b[0m conn\u001b[39m=\u001b[39mpsycopg2\u001b[39m.\u001b[39mconnect(database\u001b[39m=\u001b[39m\u001b[39m'\u001b[39m\u001b[39mlibrary\u001b[39m\u001b[39m'\u001b[39m, user\u001b[39m=\u001b[39m\u001b[39m'\u001b[39m\u001b[39mpostgres\u001b[39m\u001b[39m'\u001b[39m, password\u001b[39m=\u001b[39m\u001b[39m'\u001b[39m\u001b[39mpgdbda\u001b[39m\u001b[39m'\u001b[39m,host\u001b[39m=\u001b[39m\u001b[39m'\u001b[39m\u001b[39m127.0.0.1\u001b[39m\u001b[39m'\u001b[39m,port\u001b[39m=\u001b[39m\u001b[39m'\u001b[39m\u001b[39m5432\u001b[39m\u001b[39m'\u001b[39m)\n\u001b[0;32m      <a href='vscode-notebook-cell:/c%3A/Users/amitv/OneDrive/Desktop/mini%20project/lib.ipynb#ch0000037?line=6'>7</a>\u001b[0m cur\u001b[39m=\u001b[39mconn\u001b[39m.\u001b[39mcursor()\n\u001b[1;32m----> <a href='vscode-notebook-cell:/c%3A/Users/amitv/OneDrive/Desktop/mini%20project/lib.ipynb#ch0000037?line=8'>9</a>\u001b[0m cur\u001b[39m.\u001b[39mexecute(\u001b[39m'''\u001b[39m\u001b[39mselect*from payments where id=(select id from user1 where name=\u001b[39m\u001b[39m%s\u001b[39;00m\u001b[39m and password=\u001b[39m\u001b[39m%s\u001b[39;00m\u001b[39m'''\u001b[39m,(usr,pas))\n\u001b[0;32m     <a href='vscode-notebook-cell:/c%3A/Users/amitv/OneDrive/Desktop/mini%20project/lib.ipynb#ch0000037?line=9'>10</a>\u001b[0m tupples\u001b[39m=\u001b[39mcur\u001b[39m.\u001b[39mfetchall()\n\u001b[0;32m     <a href='vscode-notebook-cell:/c%3A/Users/amitv/OneDrive/Desktop/mini%20project/lib.ipynb#ch0000037?line=10'>11</a>\u001b[0m df \u001b[39m=\u001b[39m pd\u001b[39m.\u001b[39mDataFrame(tupples, columns\u001b[39m=\u001b[39mcolumn_names)\n",
      "\u001b[1;31mNameError\u001b[0m: name 'usr' is not defined"
     ]
    }
   ],
   "source": [
    "payment_history_mem()"
   ]
  }
 ],
 "metadata": {
  "interpreter": {
   "hash": "8c082ad94d003365404aaa792c2427edbdb355405d030d7fbdcd32a216153fc5"
  },
  "kernelspec": {
   "display_name": "Python 3.10.4 64-bit",
   "language": "python",
   "name": "python3"
  },
  "language_info": {
   "codemirror_mode": {
    "name": "ipython",
    "version": 3
   },
   "file_extension": ".py",
   "mimetype": "text/x-python",
   "name": "python",
   "nbconvert_exporter": "python",
   "pygments_lexer": "ipython3",
   "version": "3.10.4"
  },
  "orig_nbformat": 4
 },
 "nbformat": 4,
 "nbformat_minor": 2
}
